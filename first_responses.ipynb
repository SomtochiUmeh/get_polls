{
 "cells": [
  {
   "cell_type": "code",
   "execution_count": 1,
   "metadata": {},
   "outputs": [],
   "source": [
    "import os\n",
    "\n",
    "import requests\n",
    "from dotenv import load_dotenv\n",
    "\n",
    "load_dotenv()\n",
    "\n",
    "def get_cookies_dict(cookies_string):\n",
    "\n",
    "    cookies_dict = {}\n",
    "    indiv_cookies = cookies_string.split('\\\\n')\n",
    "\n",
    "    for cookie in indiv_cookies:\n",
    "        temp = cookie.split('\\\\t')\n",
    "        cookies_dict[temp[0]] = temp[1]\n",
    "\n",
    "    return cookies_dict\n",
    "\n",
    "cookies = get_cookies_dict(os.getenv(\"COOKIES_STRING\"))"
   ]
  },
  {
   "cell_type": "code",
   "execution_count": 2,
   "metadata": {},
   "outputs": [],
   "source": [
    "def get_headers_dict(headers_string):\n",
    "    headers_dict = {}\n",
    "    \n",
    "    indiv_headers = headers_string.split('\\\\n')\n",
    "    n = len(indiv_headers)\n",
    "    \n",
    "    for idx in range(0, n, 2):\n",
    "        if ':' in indiv_headers[idx]:\n",
    "            indiv_headers[idx] = indiv_headers[idx].replace(':', '')\n",
    "        headers_dict[indiv_headers[idx]] = indiv_headers[idx+1]\n",
    "\n",
    "    return headers_dict\n",
    "\n",
    "headers = get_headers_dict(os.getenv(\"HEADERS_STRING\"))"
   ]
  },
  {
   "cell_type": "code",
   "execution_count": 3,
   "metadata": {},
   "outputs": [],
   "source": [
    "url = \"https://forum.minerva.edu/api/v1/outcomeindex/performance?hc-item=4855\"\n",
    "response = requests.get(url, headers=headers, cookies=cookies)"
   ]
  },
  {
   "cell_type": "code",
   "execution_count": 27,
   "metadata": {},
   "outputs": [],
   "source": [
    "hcs_url = \"https://forum.minerva.edu/api/v1/general-learning-outcomes\"\n",
    "hcs_res = requests.get(hcs_url, cookies=cookies)\n",
    "# print(hcs_res.text)"
   ]
  },
  {
   "cell_type": "code",
   "execution_count": 9,
   "metadata": {},
   "outputs": [],
   "source": [
    "url = \"https://forum.minerva.edu/api/v1/outcomeindex/performance\"\n",
    "response = requests.get(url, cookies=cookies)"
   ]
  },
  {
   "cell_type": "code",
   "execution_count": null,
   "metadata": {},
   "outputs": [],
   "source": [
    "response.json()"
   ]
  },
  {
   "cell_type": "code",
   "execution_count": 26,
   "metadata": {},
   "outputs": [],
   "source": [
    "hc_ids = 'algorithms 4846\\nanalogies 4843\\naudience 4854\\nbiasidentification 4823\\nbreakitdown 4828\\ncasestudy 4837\\ncommunicationdesign 4857\\ncomparisongroups 4840\\ncomplexcausality 4862\\ncomposition 4852\\nconfidenceintervals 4817\\nconformity 4874\\nconnotation 4853\\nconstraints 4844\\ncontext 4804\\ncorrelation 4818\\ncritique 4805\\ndataviz 4833\\ndecisiontrees 4826\\ndeduction 4811\\ndescriptivestats 4814\\ndesignthinking 4848\\ndifferences 4873\\ndistributions 4816\\nemergentproperties 4861\\nemotionaliq 4876\\nestimation 4808\\nethicalconsiderations 4878\\nethicalcourage 4880\\nethicaljudgment 4879\\nevidencebased 4809\\nexpression 4856\\nfallacies 4813\\ngametheory 4831\\ngapanalysis 4829\\nheuristics 4845\\nhypothesisdevelopment 4832\\ninduction 4812\\ninterpretivelens 4803\\ninterventionalstudy 4836\\ninterviewsurvey 4838\\nleadprinciples 4870\\nlevelsofanalysis 4860\\nmedium 4855\\nmodeling 4834\\nmultimedia 4858\\nnegotiate 4865\\nnetworks 4863\\nobservationalstudy 4835\\noptimization 4847\\norganization 4851\\npersuasion 4868\\nplausibility 4806\\npowerdynamics 4871\\nprobability 4815\\nprofessionalism 4849\\npsychologicalexplanation 4821\\npurpose 4822\\nregression 4819\\nresponsibility 4877\\nrightproblem 4827\\nsampling 4841\\nscienceoflearning 4842\\nselfawareness 4875\\nsignificance 4820\\nsourcequality 4810\\nstrategize 4872\\nstudyreplication 4839\\nsystemdynamics 4864\\nsystemmapping 4859\\ntestability 4807\\nthesis 4850\\nutility 4825\\nvariables 4830'\n",
    "\n",
    "hc_ids_array = hc_ids.split('\\n')\n",
    "hcs_ids = {}\n",
    "\n",
    "for pair in hc_ids_array:\n",
    "    hc_id_pair = pair.split()\n",
    "    hc = hc_id_pair[0]\n",
    "    val = hc_id_pair[1]\n",
    "\n",
    "    hcs_ids[hc] = val\n",
    "\n",
    "#hcs_ids"
   ]
  },
  {
   "cell_type": "code",
   "execution_count": null,
   "metadata": {},
   "outputs": [],
   "source": []
  }
 ],
 "metadata": {
  "kernelspec": {
   "display_name": "base",
   "language": "python",
   "name": "python3"
  },
  "language_info": {
   "codemirror_mode": {
    "name": "ipython",
    "version": 3
   },
   "file_extension": ".py",
   "mimetype": "text/x-python",
   "name": "python",
   "nbconvert_exporter": "python",
   "pygments_lexer": "ipython3",
   "version": "3.8.8"
  },
  "orig_nbformat": 4
 },
 "nbformat": 4,
 "nbformat_minor": 2
}
